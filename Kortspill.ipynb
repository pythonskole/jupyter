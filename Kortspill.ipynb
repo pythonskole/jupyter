{
 "cells": [
  {
   "cell_type": "markdown",
   "id": "11ca1258",
   "metadata": {},
   "source": [
    "# Kortspill\n",
    "Lek med kortspill i Python. Denne koden er under utvikling og trenger noe mer testing før den virker som den skal."
   ]
  },
  {
   "cell_type": "code",
   "execution_count": 2,
   "id": "74cd7dde",
   "metadata": {},
   "outputs": [
    {
     "name": "stdout",
     "output_type": "stream",
     "text": [
      "RA\n",
      "R2\n",
      "R3\n",
      "R4\n",
      "R5\n",
      "R6\n",
      "R7\n",
      "R8\n",
      "R9\n",
      "R10\n",
      "RJ\n",
      "RQ\n",
      "R13\n",
      "KA\n",
      "K2\n",
      "K3\n",
      "K4\n",
      "K5\n",
      "K6\n",
      "K7\n",
      "K8\n",
      "K9\n",
      "K10\n",
      "KJ\n",
      "KQ\n",
      "K13\n",
      "SA\n",
      "S2\n",
      "S3\n",
      "S4\n",
      "S5\n",
      "S6\n",
      "S7\n",
      "S8\n",
      "S9\n",
      "S10\n",
      "SJ\n",
      "SQ\n",
      "S13\n",
      "HA\n",
      "H2\n",
      "H3\n",
      "H4\n",
      "H5\n",
      "H6\n",
      "H7\n",
      "H8\n",
      "H9\n",
      "H10\n",
      "HJ\n",
      "HQ\n",
      "H13\n"
     ]
    }
   ],
   "source": [
    "class Kort:\n",
    "    def __init__(self,farge,verdi):\n",
    "        self.farge = farge #ruter, kløver, spar, hjerter\n",
    "        self.verdi = str(verdi) #1-13\n",
    "        if verdi == 1:\n",
    "            self.verdi = 'A'\n",
    "        elif verdi == 11:\n",
    "            self.verdi = 'J'\n",
    "        elif verdi == 12:\n",
    "            self.verdi = 'Q'\n",
    "        elif verdi == 13:\n",
    "            self.verdi == 'K'\n",
    "        \n",
    "    def vis(self):\n",
    "        return self.farge+self.verdi\n",
    "\n",
    "kortstokk = []       \n",
    "\n",
    "for farge in ['R','K','S','H']:\n",
    "    for verdi in range(1,14):\n",
    "        kortstokk.append(Kort(farge,verdi))\n",
    "\n",
    "for kort in kortstokk:\n",
    "    print(kort.vis())\n"
   ]
  },
  {
   "cell_type": "code",
   "execution_count": null,
   "id": "23e5c400",
   "metadata": {},
   "outputs": [],
   "source": []
  }
 ],
 "metadata": {
  "kernelspec": {
   "display_name": "Python 3 (ipykernel)",
   "language": "python",
   "name": "python3"
  },
  "language_info": {
   "codemirror_mode": {
    "name": "ipython",
    "version": 3
   },
   "file_extension": ".py",
   "mimetype": "text/x-python",
   "name": "python",
   "nbconvert_exporter": "python",
   "pygments_lexer": "ipython3",
   "version": "3.10.4"
  }
 },
 "nbformat": 4,
 "nbformat_minor": 5
}
